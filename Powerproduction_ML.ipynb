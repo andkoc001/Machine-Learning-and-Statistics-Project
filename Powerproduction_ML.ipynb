{
 "cells": [
  {
   "cell_type": "markdown",
   "metadata": {},
   "source": [
    "# Power Production - a Machine Learning project\n",
    "\n",
    "The assignment project for Machine Learning and Statistics, GMIT 2020-2021\n",
    "\n",
    "Lecturer: dr Ian McLoughlin\n",
    "\n",
    ">Author: **Andrzej Kocielski**  \n",
    ">Github: [andkoc001](https://github.com/andkoc001/)  \n",
    ">Email: G00376291@gmit.ie, and.koc001@gmail.com\n",
    "\n",
    "\n",
    "This Notebook should be read in conjunction with the corresponding README.md file at the project [repository](https://github.com/andkoc001/Machine-Learning-and-Statistics-Project.git) at GitHub."
   ]
  },
  {
   "cell_type": "markdown",
   "metadata": {},
   "source": [
    "## Introduction\n",
    "\n",
    "### Project objectives\n",
    "\n",
    "...\n",
    "\n",
    "### Data set\n",
    "\n",
    "...\n"
   ]
  },
  {
   "cell_type": "markdown",
   "metadata": {},
   "source": [
    "## Setting the environment\n",
    "\n",
    "### Importing required libraries\n",
    "\n",
    "For this project the following libraries will be used:\n",
    "\n",
    "1. Pandas\n",
    "2. ..."
   ]
  },
  {
   "cell_type": "code",
   "execution_count": null,
   "metadata": {},
   "outputs": [],
   "source": [
    "import pandas as pd"
   ]
  },
  {
   "cell_type": "markdown",
   "metadata": {},
   "source": [
    "### Loading the data set\n",
    "\n",
    "Data set is loaded from the file powerproduction.txt."
   ]
  },
  {
   "cell_type": "code",
   "execution_count": null,
   "metadata": {},
   "outputs": [],
   "source": [
    "df = pd.read_csv(r\"powerproduction.txt\")"
   ]
  },
  {
   "cell_type": "code",
   "execution_count": null,
   "metadata": {},
   "outputs": [],
   "source": [
    "df"
   ]
  }
 ],
 "metadata": {
  "kernelspec": {
   "display_name": "Python 3",
   "language": "python",
   "name": "python3"
  },
  "language_info": {
   "codemirror_mode": {
    "name": "ipython",
    "version": 3
   },
   "file_extension": ".py",
   "mimetype": "text/x-python",
   "name": "python",
   "nbconvert_exporter": "python",
   "pygments_lexer": "ipython3",
   "version": "3.7.5"
  }
 },
 "nbformat": 4,
 "nbformat_minor": 4
}
