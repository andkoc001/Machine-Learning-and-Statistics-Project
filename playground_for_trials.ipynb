{
 "cells": [
  {
   "cell_type": "markdown",
   "metadata": {},
   "source": [
    "# Power Production - a Machine Learning project playground\n",
    "\n",
    ">Author: **Andrzej Kocielski**  \n",
    "\n",
    "This is a playground notebook for testing only. The actual project notebook is [Powerproduction_ML.ipynb](https://github.com/andkoc001/Machine-Learning-and-Statistics-Project.git/Powerproduction_ML.ipynb).\n",
    "\n",
    "For more information see [README.md](https://github.com/andkoc001/Machine-Learning-and-Statistics-Project.git/README.MD).\n"
   ]
  },
  {
   "cell_type": "markdown",
   "metadata": {},
   "source": [
    "___"
   ]
  },
  {
   "cell_type": "markdown",
   "metadata": {},
   "source": [
    "## Loose notes and ideas"
   ]
  },
  {
   "cell_type": "markdown",
   "metadata": {},
   "source": [
    "### Ideas\n",
    "\n",
    "1. There is a number of observation in the data set where produced power output is zero, regardless of the wind speed. These data points should be removed from analysis.\n",
    "2. ..."
   ]
  },
  {
   "cell_type": "markdown",
   "metadata": {},
   "source": [
    "### ML Techniques\n",
    "\n",
    "- Unsupervised\n",
    "    - Clustering\n",
    "    - Dimensional reduction\n",
    "- Supervised\n",
    "    - Regression\n",
    "    - Classification\n",
    "- Reinforced Learning\n",
    "\n",
    "![image](https://miro.medium.com/max/700/1*AqNYz4M_GgfUN2ROb798yg.jpeg)\n",
    "\n",
    "Image source: [Medium.com](https://miro.medium.com/max/700/1*AqNYz4M_GgfUN2ROb798yg.jpeg)\n",
    "\n",
    "### ML algorithms\n",
    "\n",
    "- Linear regression\n",
    "- Logarithmic regression\n",
    "- Decision Tree\n",
    "- Decision Forrest\n",
    "- Random Forrest\n",
    "- t-Test\n",
    "- k nearest neighbour (kNN)\n",
    "- k-means\n",
    "- Anova (analysis of variance)\n",
    "- Support Vector Machine (SVM)\n",
    "- Principal Component Analysis (PCA)\n",
    "- Naive Bayes\n",
    "- Dimensionality Reduction Algorithms\n",
    "\n",
    "![image](https://docs.microsoft.com/en-us/azure/machine-learning/media/algorithm-cheat-sheet/machine-learning-algorithm-cheat-sheet.svg)\n",
    "Image source: [Microsoft.com](https://docs.microsoft.com/en-us/azure/machine-learning/media/algorithm-cheat-sheet/machine-learning-algorithm-cheat-sheet.svg)\n",
    "\n",
    "![image](https://miro.medium.com/max/1920/1*Lejtm0oGlOC5U0-J0JmGhg.png)\n",
    "Image source: [Medium.com](https://miro.medium.com/max/1920/1*Lejtm0oGlOC5U0-J0JmGhg.png)"
   ]
  },
  {
   "cell_type": "markdown",
   "metadata": {},
   "source": [
    "### To Do\n",
    "\n",
    "1. Exploratory data analysis\n",
    "2. Data cleaning\n",
    "3. Data modeling (add / combine / infer additional data)\n",
    "4. Select ML techniques to be used (explain why)\n",
    "5. Do ML - analyse predictions accuracy etc. for various boundary conditions and parameters\n",
    "6. Draw a conclusion"
   ]
  },
  {
   "cell_type": "markdown",
   "metadata": {},
   "source": [
    "___"
   ]
  },
  {
   "cell_type": "markdown",
   "metadata": {},
   "source": [
    "## Importing libraries"
   ]
  },
  {
   "cell_type": "code",
   "execution_count": null,
   "metadata": {},
   "outputs": [],
   "source": [
    "import numpy as np\n",
    "import pandas as pd\n",
    "import matplotlib.pyplot as plt\n",
    "%matplotlib inline\n",
    "import seaborn as sns\n",
    "import requests"
   ]
  },
  {
   "cell_type": "markdown",
   "metadata": {},
   "source": [
    "## Data set"
   ]
  },
  {
   "cell_type": "code",
   "execution_count": null,
   "metadata": {},
   "outputs": [],
   "source": [
    "# Data set is loaded from the file `powerproduction.txt`.\n",
    "df = pd.read_csv(r\"powerproduction.txt\")"
   ]
  },
  {
   "cell_type": "code",
   "execution_count": null,
   "metadata": {},
   "outputs": [],
   "source": [
    "df"
   ]
  },
  {
   "cell_type": "markdown",
   "metadata": {},
   "source": [
    "## Import Seaborn"
   ]
  },
  {
   "cell_type": "code",
   "execution_count": null,
   "metadata": {},
   "outputs": [],
   "source": [
    "import seaborn as sns"
   ]
  },
  {
   "cell_type": "code",
   "execution_count": null,
   "metadata": {},
   "outputs": [],
   "source": [
    "sns.relplot(data=df, x=\"speed\", y=\"power\", s=20, palette=\"pastel\", height=6, aspect=2)"
   ]
  },
  {
   "cell_type": "code",
   "execution_count": null,
   "metadata": {},
   "outputs": [],
   "source": [
    "\n",
    "df_sd = pd.DataFrame()\n",
    "print(df_sd)\n",
    "for index, row in df.iterrows():\n",
    "    speed_difference = df.iloc[index]['speed'] - df.iloc[index-1]['speed']\n",
    "    # print(speed_difference)\n",
    "    df_sd = df_sd.append({'speed diff': speed_difference}, ignore_index=True)\n",
    "\n",
    "df_sd = df_sd.drop(index=[0], axis=0)\n",
    "print(df_sd)  "
   ]
  },
  {
   "cell_type": "code",
   "execution_count": null,
   "metadata": {},
   "outputs": [],
   "source": [
    "df_sd.describe()"
   ]
  },
  {
   "cell_type": "code",
   "execution_count": null,
   "metadata": {},
   "outputs": [],
   "source": [
    "sns.distplot(df_sd)"
   ]
  },
  {
   "cell_type": "code",
   "execution_count": null,
   "metadata": {},
   "outputs": [],
   "source": [
    "# what wind speeds dominate - it appears to be more or less uniformely distributed\n",
    "plt.figure(figsize=(20,2))\n",
    "sns.distplot(df.speed, bins=100, kde=False)"
   ]
  },
  {
   "cell_type": "code",
   "execution_count": null,
   "metadata": {},
   "outputs": [],
   "source": [
    "plt.figure(figsize=(20,4))\n",
    "sns.distplot(df.power, bins=100, kde=False)"
   ]
  },
  {
   "cell_type": "code",
   "execution_count": null,
   "metadata": {},
   "outputs": [],
   "source": [
    "sns.relplot(\n",
    "    data=df,\n",
    "    x=\"speed\", y=\"power\",\n",
    "    kind=\"line\", size_order=[\"T1\", \"T2\"], palette=\"pastel\",\n",
    "    height=6, aspect=3, facet_kws=dict(sharex=False)\n",
    ")"
   ]
  },
  {
   "cell_type": "code",
   "execution_count": null,
   "metadata": {},
   "outputs": [],
   "source": [
    "# Linear regression is an underfitting approximation\n",
    "plt.figure(figsize=(18,6))\n",
    "sns.regplot(data=df, x=\"speed\", y=\"power\", scatter_kws={'s':1})"
   ]
  },
  {
   "cell_type": "code",
   "execution_count": null,
   "metadata": {},
   "outputs": [],
   "source": [
    "# clean the dataset by removing all observations where the power output is zero\n",
    "\n",
    "df_clean = df[df['power'] !=0]\n",
    "df_clean"
   ]
  },
  {
   "cell_type": "code",
   "execution_count": null,
   "metadata": {},
   "outputs": [],
   "source": [
    "# Polynomial regression for cleaned dataset\n",
    "\n",
    "a_plot = sns.lmplot(data=df_clean, x=\"speed\", y=\"power\", order=9, height=6, aspect=2, scatter_kws={'s':1})\n",
    "\n",
    "a_plot.set(xlim=(0, 25))\n",
    "a_plot.set(ylim=(0, 120))\n",
    "\n",
    "plt.show()"
   ]
  },
  {
   "cell_type": "markdown",
   "metadata": {},
   "source": [
    "The above polynomial appears to closely follow the pattern of the data points in the domain (wind speed in range 0-25).\n",
    "\n",
    "Let's now apply the Numpy function `polyfit()` to get the value of the coefficients that minimise the squared order."
   ]
  },
  {
   "cell_type": "code",
   "execution_count": null,
   "metadata": {},
   "outputs": [],
   "source": [
    "coeff = np.polyfit(df['speed'], df['power'], 9)\n",
    "#coeff"
   ]
  },
  {
   "cell_type": "markdown",
   "metadata": {},
   "source": [
    "Testing the above - attempt to reproduce the plot of the polynomial with the above coefficients."
   ]
  },
  {
   "cell_type": "code",
   "execution_count": null,
   "metadata": {},
   "outputs": [],
   "source": [
    "coeff = np.polyfit(df['speed'], df['power'], 9)\n",
    "#coeff\n",
    "\n",
    "#with warnings.catch_warnings():\n",
    "#    warnings.simplefilter('ignore', np.RankWarning)    \n",
    "#    y = np.poly1d(coeff)\n",
    "    \n",
    "yp = np.poly1d(coeff)\n",
    "    \n",
    "x = np.linspace(0, 24.5, 101)\n",
    "xp = plt.plot(x, yp(x))\n",
    "\n",
    "plt.xlim(0,25)\n",
    "plt.ylim(0,120)\n",
    "\n",
    "plt.rcParams['figure.figsize'] = [15, 6]\n",
    "plt.show()\n",
    "print(\"y = \")\n",
    "print(yp)"
   ]
  },
  {
   "cell_type": "code",
   "execution_count": null,
   "metadata": {},
   "outputs": [],
   "source": []
  },
  {
   "cell_type": "code",
   "execution_count": null,
   "metadata": {},
   "outputs": [],
   "source": []
  },
  {
   "cell_type": "code",
   "execution_count": null,
   "metadata": {},
   "outputs": [],
   "source": [
    "from scipy.stats import linregress\n",
    "\n",
    "#help(linregress)\n",
    "linregress(df)"
   ]
  },
  {
   "cell_type": "markdown",
   "metadata": {},
   "source": [
    "Where (from the function help file):\n",
    "\n",
    "slope - Slope of the regression line.\n",
    "\n",
    "intercept - Intercept of the regression line.\n",
    "\n",
    "rvalue - Correlation coefficient.\n",
    "\n",
    "pvalue - Two-sided p-value for a hypothesis test whose null hypothesis is that the slope is zero, using Wald Test with t-distribution of the test statistic.\n",
    "\n",
    "stderr - Standard error of the estimated gradient."
   ]
  },
  {
   "cell_type": "code",
   "execution_count": null,
   "metadata": {},
   "outputs": [],
   "source": []
  },
  {
   "cell_type": "markdown",
   "metadata": {},
   "source": [
    "https://towardsdatascience.com/polynomial-regression-bbe8b9d97491"
   ]
  },
  {
   "cell_type": "markdown",
   "metadata": {},
   "source": [
    "---"
   ]
  },
  {
   "cell_type": "markdown",
   "metadata": {},
   "source": [
    "## Playing with Requests\n",
    "\n",
    "The `requests` library has been now added to the other imported libraries on top of the notebook."
   ]
  },
  {
   "cell_type": "code",
   "execution_count": null,
   "metadata": {},
   "outputs": [],
   "source": [
    "url = \"https://www.gmit.ie\"\n",
    "\n",
    "# also check https://www.httpbin.org"
   ]
  },
  {
   "cell_type": "code",
   "execution_count": null,
   "metadata": {},
   "outputs": [],
   "source": [
    "res = requests.get(url)\n",
    "res"
   ]
  },
  {
   "cell_type": "code",
   "execution_count": null,
   "metadata": {},
   "outputs": [],
   "source": [
    "print(dir(res))\n",
    "print(help(res))"
   ]
  },
  {
   "cell_type": "code",
   "execution_count": null,
   "metadata": {},
   "outputs": [],
   "source": [
    "res.status_code"
   ]
  },
  {
   "cell_type": "code",
   "execution_count": null,
   "metadata": {},
   "outputs": [],
   "source": [
    "print(res.headers)"
   ]
  },
  {
   "cell_type": "code",
   "execution_count": null,
   "metadata": {},
   "outputs": [],
   "source": [
    "print(res.text) # print() is used for better text formating"
   ]
  },
  {
   "cell_type": "code",
   "execution_count": null,
   "metadata": {},
   "outputs": [],
   "source": []
  }
 ],
 "metadata": {
  "kernelspec": {
   "display_name": "Python 3",
   "language": "python",
   "name": "python3"
  },
  "language_info": {
   "codemirror_mode": {
    "name": "ipython",
    "version": 3
   },
   "file_extension": ".py",
   "mimetype": "text/x-python",
   "name": "python",
   "nbconvert_exporter": "python",
   "pygments_lexer": "ipython3",
   "version": "3.7.9"
  }
 },
 "nbformat": 4,
 "nbformat_minor": 4
}
